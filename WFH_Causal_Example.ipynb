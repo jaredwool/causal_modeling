{
  "nbformat": 4,
  "nbformat_minor": 0,
  "metadata": {
    "colab": {
      "provenance": [],
      "authorship_tag": "ABX9TyMRtGSjikJjDZOUffm+BHS7",
      "include_colab_link": true
    },
    "kernelspec": {
      "name": "python3",
      "display_name": "Python 3"
    },
    "language_info": {
      "name": "python"
    }
  },
  "cells": [
    {
      "cell_type": "markdown",
      "metadata": {
        "id": "view-in-github",
        "colab_type": "text"
      },
      "source": [
        "<a href=\"https://colab.research.google.com/github/jaredwool/causal_modeling/blob/main/WFH_Causal_Example.ipynb\" target=\"_parent\"><img src=\"https://colab.research.google.com/assets/colab-badge.svg\" alt=\"Open In Colab\"/></a>"
      ]
    },
    {
      "cell_type": "markdown",
      "source": [
        "# How does Working from Home (WFH) affect productivity?\n",
        "## A Synthetic Example to illustrate different Causal approaches that are facilitated through the use of DAGs\n",
        "This example is based loosely on an example found on the datacamp.com website but I have expanded upon it and added context for clarity\n",
        "\n",
        "https://www.datacamp.com/tutorial/intro-to-causal-ai-using-the-dowhy-library-in-python\n",
        "\n",
        "*   List item\n",
        "*   List item\n",
        "\n"
      ],
      "metadata": {
        "id": "wBiNv4bVpSoR"
      }
    },
    {
      "cell_type": "code",
      "source": [
        "# install packages\n",
        "!pip install seaborn statsmodels dowhy lightgbm"
      ],
      "metadata": {
        "colab": {
          "base_uri": "https://localhost:8080/"
        },
        "id": "M18IUaeWp0r2",
        "outputId": "081585e0-c1b0-4911-9df1-77988d70289e"
      },
      "execution_count": 3,
      "outputs": [
        {
          "output_type": "stream",
          "name": "stdout",
          "text": [
            "Requirement already satisfied: seaborn in /usr/local/lib/python3.10/dist-packages (0.13.1)\n",
            "Requirement already satisfied: statsmodels in /usr/local/lib/python3.10/dist-packages (0.14.1)\n",
            "Collecting dowhy\n",
            "  Downloading dowhy-0.11.1-py3-none-any.whl (383 kB)\n",
            "\u001b[2K     \u001b[90m━━━━━━━━━━━━━━━━━━━━━━━━━━━━━━━━━━━━━━━━\u001b[0m \u001b[32m383.4/383.4 kB\u001b[0m \u001b[31m5.4 MB/s\u001b[0m eta \u001b[36m0:00:00\u001b[0m\n",
            "\u001b[?25hRequirement already satisfied: lightgbm in /usr/local/lib/python3.10/dist-packages (4.1.0)\n",
            "Requirement already satisfied: numpy!=1.24.0,>=1.20 in /usr/local/lib/python3.10/dist-packages (from seaborn) (1.25.2)\n",
            "Requirement already satisfied: pandas>=1.2 in /usr/local/lib/python3.10/dist-packages (from seaborn) (2.0.3)\n",
            "Requirement already satisfied: matplotlib!=3.6.1,>=3.4 in /usr/local/lib/python3.10/dist-packages (from seaborn) (3.7.1)\n",
            "Requirement already satisfied: scipy!=1.9.2,>=1.4 in /usr/local/lib/python3.10/dist-packages (from statsmodels) (1.11.4)\n",
            "Requirement already satisfied: patsy>=0.5.4 in /usr/local/lib/python3.10/dist-packages (from statsmodels) (0.5.6)\n",
            "Requirement already satisfied: packaging>=21.3 in /usr/local/lib/python3.10/dist-packages (from statsmodels) (24.0)\n",
            "Collecting causal-learn>=0.1.3.0 (from dowhy)\n",
            "  Downloading causal_learn-0.1.3.8-py3-none-any.whl (174 kB)\n",
            "\u001b[2K     \u001b[90m━━━━━━━━━━━━━━━━━━━━━━━━━━━━━━━━━━━━━━━━\u001b[0m \u001b[32m174.5/174.5 kB\u001b[0m \u001b[31m11.4 MB/s\u001b[0m eta \u001b[36m0:00:00\u001b[0m\n",
            "\u001b[?25hRequirement already satisfied: cvxpy<2.0.0,>=1.2.2 in /usr/local/lib/python3.10/dist-packages (from dowhy) (1.3.3)\n",
            "Requirement already satisfied: cython>=0.29.32 in /usr/local/lib/python3.10/dist-packages (from dowhy) (3.0.10)\n",
            "Requirement already satisfied: joblib>=1.1.0 in /usr/local/lib/python3.10/dist-packages (from dowhy) (1.4.0)\n",
            "Requirement already satisfied: networkx>=2.8.5 in /usr/local/lib/python3.10/dist-packages (from dowhy) (3.3)\n",
            "Requirement already satisfied: scikit-learn>1.0 in /usr/local/lib/python3.10/dist-packages (from dowhy) (1.2.2)\n",
            "Requirement already satisfied: sympy>=1.10.1 in /usr/local/lib/python3.10/dist-packages (from dowhy) (1.12)\n",
            "Requirement already satisfied: tqdm>=4.64.0 in /usr/local/lib/python3.10/dist-packages (from dowhy) (4.66.2)\n",
            "Requirement already satisfied: graphviz in /usr/local/lib/python3.10/dist-packages (from causal-learn>=0.1.3.0->dowhy) (0.20.3)\n",
            "Requirement already satisfied: pydot in /usr/local/lib/python3.10/dist-packages (from causal-learn>=0.1.3.0->dowhy) (1.4.2)\n",
            "Requirement already satisfied: osqp>=0.4.1 in /usr/local/lib/python3.10/dist-packages (from cvxpy<2.0.0,>=1.2.2->dowhy) (0.6.2.post8)\n",
            "Requirement already satisfied: ecos>=2 in /usr/local/lib/python3.10/dist-packages (from cvxpy<2.0.0,>=1.2.2->dowhy) (2.0.13)\n",
            "Requirement already satisfied: scs>=1.1.6 in /usr/local/lib/python3.10/dist-packages (from cvxpy<2.0.0,>=1.2.2->dowhy) (3.2.4.post1)\n",
            "Requirement already satisfied: setuptools>65.5.1 in /usr/local/lib/python3.10/dist-packages (from cvxpy<2.0.0,>=1.2.2->dowhy) (67.7.2)\n",
            "Requirement already satisfied: contourpy>=1.0.1 in /usr/local/lib/python3.10/dist-packages (from matplotlib!=3.6.1,>=3.4->seaborn) (1.2.1)\n",
            "Requirement already satisfied: cycler>=0.10 in /usr/local/lib/python3.10/dist-packages (from matplotlib!=3.6.1,>=3.4->seaborn) (0.12.1)\n",
            "Requirement already satisfied: fonttools>=4.22.0 in /usr/local/lib/python3.10/dist-packages (from matplotlib!=3.6.1,>=3.4->seaborn) (4.51.0)\n",
            "Requirement already satisfied: kiwisolver>=1.0.1 in /usr/local/lib/python3.10/dist-packages (from matplotlib!=3.6.1,>=3.4->seaborn) (1.4.5)\n",
            "Requirement already satisfied: pillow>=6.2.0 in /usr/local/lib/python3.10/dist-packages (from matplotlib!=3.6.1,>=3.4->seaborn) (9.4.0)\n",
            "Requirement already satisfied: pyparsing>=2.3.1 in /usr/local/lib/python3.10/dist-packages (from matplotlib!=3.6.1,>=3.4->seaborn) (3.1.2)\n",
            "Requirement already satisfied: python-dateutil>=2.7 in /usr/local/lib/python3.10/dist-packages (from matplotlib!=3.6.1,>=3.4->seaborn) (2.8.2)\n",
            "Requirement already satisfied: pytz>=2020.1 in /usr/local/lib/python3.10/dist-packages (from pandas>=1.2->seaborn) (2023.4)\n",
            "Requirement already satisfied: tzdata>=2022.1 in /usr/local/lib/python3.10/dist-packages (from pandas>=1.2->seaborn) (2024.1)\n",
            "Requirement already satisfied: six in /usr/local/lib/python3.10/dist-packages (from patsy>=0.5.4->statsmodels) (1.16.0)\n",
            "Requirement already satisfied: threadpoolctl>=2.0.0 in /usr/local/lib/python3.10/dist-packages (from scikit-learn>1.0->dowhy) (3.4.0)\n",
            "Requirement already satisfied: mpmath>=0.19 in /usr/local/lib/python3.10/dist-packages (from sympy>=1.10.1->dowhy) (1.3.0)\n",
            "Requirement already satisfied: qdldl in /usr/local/lib/python3.10/dist-packages (from osqp>=0.4.1->cvxpy<2.0.0,>=1.2.2->dowhy) (0.1.7.post1)\n",
            "Installing collected packages: causal-learn, dowhy\n",
            "Successfully installed causal-learn-0.1.3.8 dowhy-0.11.1\n"
          ]
        }
      ]
    },
    {
      "cell_type": "code",
      "source": [
        "import numpy as np\n",
        "import pandas as pd\n",
        "import random\n",
        "import seaborn as sns\n",
        "import matplotlib.pyplot as plt\n",
        "\n",
        "from lightgbm import LGBMRegressor\n",
        "import statsmodels.api as sm\n",
        "\n",
        "import dowhy\n",
        "from dowhy import CausalModel\n"
      ],
      "metadata": {
        "id": "jayM1HOEqBbb"
      },
      "execution_count": 4,
      "outputs": []
    },
    {
      "cell_type": "code",
      "source": [
        "# Create a dataset\n",
        "noise_level = 0.2\n",
        "n_samples = 10000\n",
        "random.seed(1)\n",
        "np.random.seed(1)\n",
        "\n",
        "# Confounder variables (these have no parents and are random noise)\n",
        "introversion = np.random.normal(loc=5, scale = 1.5, size = n_samples)\n",
        "numkids = np.random.choice(np.arange(7), size = n_samples, p = [0.3, 0.2, 0.15, 0.15, 0.1, 0.05, 0.05])\n",
        "\n",
        "# Instrumental variable (has no parents and is an indicator variable affecting a random subset of the population)\n",
        "subway = np.random.choice([0,1], size = n_samples, p = [0.80, 0.20])\n",
        "\n",
        "# Treatment variable (Variable of interest) affected by confounders as well as instrumental variable\n",
        "wfh = 0.4*introversion + 0.6*numkids + noise_level*np.random.randn(n_samples)\n",
        "wfh = np.where(wfh > np.median(wfh), 1, 0)\n",
        "wfh = np.where(subway == 1, 1, wfh) # ensure everyone impacted by the subway is also working from home\n",
        "\n",
        "# Mediator variable, impacted by wfh alone and affects the outcome of interest\n",
        "min_saved = wfh * np.random.normal(loc = 60, scale = 15, size = n_samples) # Extra minutes are normally distributed with mean 60 and std 15\n",
        "\n",
        "# outcome is affected by the mediator as well as the confounders\n",
        "productivity = 0.05*min_saved + 0.4*introversion - 0.6*numkids + noise_level*(np.random.randn(n_samples))\n",
        "\n",
        "# Spurious collider impacted by treatment and outcome\n",
        "pm = np.round((3*wfh + 8*productivity + 5*(np.random.randn(n_samples)))/10, 0) + 2\n",
        "\n",
        "fulldf = pd.DataFrame({'introversion':introversion, 'numkids':numkids, 'subway_closure':subway, 'wfh':wfh, 'min_saved':min_saved, 'productivity':productivity, 'pm_rating':pm})\n",
        "# Add an ID identifier\n",
        "fulldf['emp_id']=10000 + fulldf.index\n",
        "\n",
        "df = fulldf[['emp_id', 'numkids', 'wfh', 'productivity','introversion']]\n",
        "df.head(10)"
      ],
      "metadata": {
        "id": "gEv0f3xKqedv",
        "colab": {
          "base_uri": "https://localhost:8080/",
          "height": 363
        },
        "outputId": "b423297d-2a53-4524-db50-fec311dc77f2"
      },
      "execution_count": 10,
      "outputs": [
        {
          "output_type": "execute_result",
          "data": {
            "text/plain": [
              "   emp_id  numkids  wfh  productivity  introversion\n",
              "0   10000        4    1      3.216243      7.436518\n",
              "1   10001        0    0      1.842094      4.082365\n",
              "2   10002        5    1      1.487691      4.207742\n",
              "3   10003        0    0      1.560975      3.390547\n",
              "4   10004        0    0      2.412597      6.298111\n",
              "5   10005        1    0      0.018966      1.547692\n",
              "6   10006        3    1      3.623897      7.617218\n",
              "7   10007        0    1      4.151433      3.858190\n",
              "8   10008        1    0      1.452014      5.478559\n",
              "9   10009        4    1      4.007714      4.625944"
            ],
            "text/html": [
              "\n",
              "  <div id=\"df-3dd9eaeb-f41c-481c-8f41-6e87cc4f33fc\" class=\"colab-df-container\">\n",
              "    <div>\n",
              "<style scoped>\n",
              "    .dataframe tbody tr th:only-of-type {\n",
              "        vertical-align: middle;\n",
              "    }\n",
              "\n",
              "    .dataframe tbody tr th {\n",
              "        vertical-align: top;\n",
              "    }\n",
              "\n",
              "    .dataframe thead th {\n",
              "        text-align: right;\n",
              "    }\n",
              "</style>\n",
              "<table border=\"1\" class=\"dataframe\">\n",
              "  <thead>\n",
              "    <tr style=\"text-align: right;\">\n",
              "      <th></th>\n",
              "      <th>emp_id</th>\n",
              "      <th>numkids</th>\n",
              "      <th>wfh</th>\n",
              "      <th>productivity</th>\n",
              "      <th>introversion</th>\n",
              "    </tr>\n",
              "  </thead>\n",
              "  <tbody>\n",
              "    <tr>\n",
              "      <th>0</th>\n",
              "      <td>10000</td>\n",
              "      <td>4</td>\n",
              "      <td>1</td>\n",
              "      <td>3.216243</td>\n",
              "      <td>7.436518</td>\n",
              "    </tr>\n",
              "    <tr>\n",
              "      <th>1</th>\n",
              "      <td>10001</td>\n",
              "      <td>0</td>\n",
              "      <td>0</td>\n",
              "      <td>1.842094</td>\n",
              "      <td>4.082365</td>\n",
              "    </tr>\n",
              "    <tr>\n",
              "      <th>2</th>\n",
              "      <td>10002</td>\n",
              "      <td>5</td>\n",
              "      <td>1</td>\n",
              "      <td>1.487691</td>\n",
              "      <td>4.207742</td>\n",
              "    </tr>\n",
              "    <tr>\n",
              "      <th>3</th>\n",
              "      <td>10003</td>\n",
              "      <td>0</td>\n",
              "      <td>0</td>\n",
              "      <td>1.560975</td>\n",
              "      <td>3.390547</td>\n",
              "    </tr>\n",
              "    <tr>\n",
              "      <th>4</th>\n",
              "      <td>10004</td>\n",
              "      <td>0</td>\n",
              "      <td>0</td>\n",
              "      <td>2.412597</td>\n",
              "      <td>6.298111</td>\n",
              "    </tr>\n",
              "    <tr>\n",
              "      <th>5</th>\n",
              "      <td>10005</td>\n",
              "      <td>1</td>\n",
              "      <td>0</td>\n",
              "      <td>0.018966</td>\n",
              "      <td>1.547692</td>\n",
              "    </tr>\n",
              "    <tr>\n",
              "      <th>6</th>\n",
              "      <td>10006</td>\n",
              "      <td>3</td>\n",
              "      <td>1</td>\n",
              "      <td>3.623897</td>\n",
              "      <td>7.617218</td>\n",
              "    </tr>\n",
              "    <tr>\n",
              "      <th>7</th>\n",
              "      <td>10007</td>\n",
              "      <td>0</td>\n",
              "      <td>1</td>\n",
              "      <td>4.151433</td>\n",
              "      <td>3.858190</td>\n",
              "    </tr>\n",
              "    <tr>\n",
              "      <th>8</th>\n",
              "      <td>10008</td>\n",
              "      <td>1</td>\n",
              "      <td>0</td>\n",
              "      <td>1.452014</td>\n",
              "      <td>5.478559</td>\n",
              "    </tr>\n",
              "    <tr>\n",
              "      <th>9</th>\n",
              "      <td>10009</td>\n",
              "      <td>4</td>\n",
              "      <td>1</td>\n",
              "      <td>4.007714</td>\n",
              "      <td>4.625944</td>\n",
              "    </tr>\n",
              "  </tbody>\n",
              "</table>\n",
              "</div>\n",
              "    <div class=\"colab-df-buttons\">\n",
              "\n",
              "  <div class=\"colab-df-container\">\n",
              "    <button class=\"colab-df-convert\" onclick=\"convertToInteractive('df-3dd9eaeb-f41c-481c-8f41-6e87cc4f33fc')\"\n",
              "            title=\"Convert this dataframe to an interactive table.\"\n",
              "            style=\"display:none;\">\n",
              "\n",
              "  <svg xmlns=\"http://www.w3.org/2000/svg\" height=\"24px\" viewBox=\"0 -960 960 960\">\n",
              "    <path d=\"M120-120v-720h720v720H120Zm60-500h600v-160H180v160Zm220 220h160v-160H400v160Zm0 220h160v-160H400v160ZM180-400h160v-160H180v160Zm440 0h160v-160H620v160ZM180-180h160v-160H180v160Zm440 0h160v-160H620v160Z\"/>\n",
              "  </svg>\n",
              "    </button>\n",
              "\n",
              "  <style>\n",
              "    .colab-df-container {\n",
              "      display:flex;\n",
              "      gap: 12px;\n",
              "    }\n",
              "\n",
              "    .colab-df-convert {\n",
              "      background-color: #E8F0FE;\n",
              "      border: none;\n",
              "      border-radius: 50%;\n",
              "      cursor: pointer;\n",
              "      display: none;\n",
              "      fill: #1967D2;\n",
              "      height: 32px;\n",
              "      padding: 0 0 0 0;\n",
              "      width: 32px;\n",
              "    }\n",
              "\n",
              "    .colab-df-convert:hover {\n",
              "      background-color: #E2EBFA;\n",
              "      box-shadow: 0px 1px 2px rgba(60, 64, 67, 0.3), 0px 1px 3px 1px rgba(60, 64, 67, 0.15);\n",
              "      fill: #174EA6;\n",
              "    }\n",
              "\n",
              "    .colab-df-buttons div {\n",
              "      margin-bottom: 4px;\n",
              "    }\n",
              "\n",
              "    [theme=dark] .colab-df-convert {\n",
              "      background-color: #3B4455;\n",
              "      fill: #D2E3FC;\n",
              "    }\n",
              "\n",
              "    [theme=dark] .colab-df-convert:hover {\n",
              "      background-color: #434B5C;\n",
              "      box-shadow: 0px 1px 3px 1px rgba(0, 0, 0, 0.15);\n",
              "      filter: drop-shadow(0px 1px 2px rgba(0, 0, 0, 0.3));\n",
              "      fill: #FFFFFF;\n",
              "    }\n",
              "  </style>\n",
              "\n",
              "    <script>\n",
              "      const buttonEl =\n",
              "        document.querySelector('#df-3dd9eaeb-f41c-481c-8f41-6e87cc4f33fc button.colab-df-convert');\n",
              "      buttonEl.style.display =\n",
              "        google.colab.kernel.accessAllowed ? 'block' : 'none';\n",
              "\n",
              "      async function convertToInteractive(key) {\n",
              "        const element = document.querySelector('#df-3dd9eaeb-f41c-481c-8f41-6e87cc4f33fc');\n",
              "        const dataTable =\n",
              "          await google.colab.kernel.invokeFunction('convertToInteractive',\n",
              "                                                    [key], {});\n",
              "        if (!dataTable) return;\n",
              "\n",
              "        const docLinkHtml = 'Like what you see? Visit the ' +\n",
              "          '<a target=\"_blank\" href=https://colab.research.google.com/notebooks/data_table.ipynb>data table notebook</a>'\n",
              "          + ' to learn more about interactive tables.';\n",
              "        element.innerHTML = '';\n",
              "        dataTable['output_type'] = 'display_data';\n",
              "        await google.colab.output.renderOutput(dataTable, element);\n",
              "        const docLink = document.createElement('div');\n",
              "        docLink.innerHTML = docLinkHtml;\n",
              "        element.appendChild(docLink);\n",
              "      }\n",
              "    </script>\n",
              "  </div>\n",
              "\n",
              "\n",
              "<div id=\"df-3c2e9635-ab44-4510-b0fc-02244c3d014c\">\n",
              "  <button class=\"colab-df-quickchart\" onclick=\"quickchart('df-3c2e9635-ab44-4510-b0fc-02244c3d014c')\"\n",
              "            title=\"Suggest charts\"\n",
              "            style=\"display:none;\">\n",
              "\n",
              "<svg xmlns=\"http://www.w3.org/2000/svg\" height=\"24px\"viewBox=\"0 0 24 24\"\n",
              "     width=\"24px\">\n",
              "    <g>\n",
              "        <path d=\"M19 3H5c-1.1 0-2 .9-2 2v14c0 1.1.9 2 2 2h14c1.1 0 2-.9 2-2V5c0-1.1-.9-2-2-2zM9 17H7v-7h2v7zm4 0h-2V7h2v10zm4 0h-2v-4h2v4z\"/>\n",
              "    </g>\n",
              "</svg>\n",
              "  </button>\n",
              "\n",
              "<style>\n",
              "  .colab-df-quickchart {\n",
              "      --bg-color: #E8F0FE;\n",
              "      --fill-color: #1967D2;\n",
              "      --hover-bg-color: #E2EBFA;\n",
              "      --hover-fill-color: #174EA6;\n",
              "      --disabled-fill-color: #AAA;\n",
              "      --disabled-bg-color: #DDD;\n",
              "  }\n",
              "\n",
              "  [theme=dark] .colab-df-quickchart {\n",
              "      --bg-color: #3B4455;\n",
              "      --fill-color: #D2E3FC;\n",
              "      --hover-bg-color: #434B5C;\n",
              "      --hover-fill-color: #FFFFFF;\n",
              "      --disabled-bg-color: #3B4455;\n",
              "      --disabled-fill-color: #666;\n",
              "  }\n",
              "\n",
              "  .colab-df-quickchart {\n",
              "    background-color: var(--bg-color);\n",
              "    border: none;\n",
              "    border-radius: 50%;\n",
              "    cursor: pointer;\n",
              "    display: none;\n",
              "    fill: var(--fill-color);\n",
              "    height: 32px;\n",
              "    padding: 0;\n",
              "    width: 32px;\n",
              "  }\n",
              "\n",
              "  .colab-df-quickchart:hover {\n",
              "    background-color: var(--hover-bg-color);\n",
              "    box-shadow: 0 1px 2px rgba(60, 64, 67, 0.3), 0 1px 3px 1px rgba(60, 64, 67, 0.15);\n",
              "    fill: var(--button-hover-fill-color);\n",
              "  }\n",
              "\n",
              "  .colab-df-quickchart-complete:disabled,\n",
              "  .colab-df-quickchart-complete:disabled:hover {\n",
              "    background-color: var(--disabled-bg-color);\n",
              "    fill: var(--disabled-fill-color);\n",
              "    box-shadow: none;\n",
              "  }\n",
              "\n",
              "  .colab-df-spinner {\n",
              "    border: 2px solid var(--fill-color);\n",
              "    border-color: transparent;\n",
              "    border-bottom-color: var(--fill-color);\n",
              "    animation:\n",
              "      spin 1s steps(1) infinite;\n",
              "  }\n",
              "\n",
              "  @keyframes spin {\n",
              "    0% {\n",
              "      border-color: transparent;\n",
              "      border-bottom-color: var(--fill-color);\n",
              "      border-left-color: var(--fill-color);\n",
              "    }\n",
              "    20% {\n",
              "      border-color: transparent;\n",
              "      border-left-color: var(--fill-color);\n",
              "      border-top-color: var(--fill-color);\n",
              "    }\n",
              "    30% {\n",
              "      border-color: transparent;\n",
              "      border-left-color: var(--fill-color);\n",
              "      border-top-color: var(--fill-color);\n",
              "      border-right-color: var(--fill-color);\n",
              "    }\n",
              "    40% {\n",
              "      border-color: transparent;\n",
              "      border-right-color: var(--fill-color);\n",
              "      border-top-color: var(--fill-color);\n",
              "    }\n",
              "    60% {\n",
              "      border-color: transparent;\n",
              "      border-right-color: var(--fill-color);\n",
              "    }\n",
              "    80% {\n",
              "      border-color: transparent;\n",
              "      border-right-color: var(--fill-color);\n",
              "      border-bottom-color: var(--fill-color);\n",
              "    }\n",
              "    90% {\n",
              "      border-color: transparent;\n",
              "      border-bottom-color: var(--fill-color);\n",
              "    }\n",
              "  }\n",
              "</style>\n",
              "\n",
              "  <script>\n",
              "    async function quickchart(key) {\n",
              "      const quickchartButtonEl =\n",
              "        document.querySelector('#' + key + ' button');\n",
              "      quickchartButtonEl.disabled = true;  // To prevent multiple clicks.\n",
              "      quickchartButtonEl.classList.add('colab-df-spinner');\n",
              "      try {\n",
              "        const charts = await google.colab.kernel.invokeFunction(\n",
              "            'suggestCharts', [key], {});\n",
              "      } catch (error) {\n",
              "        console.error('Error during call to suggestCharts:', error);\n",
              "      }\n",
              "      quickchartButtonEl.classList.remove('colab-df-spinner');\n",
              "      quickchartButtonEl.classList.add('colab-df-quickchart-complete');\n",
              "    }\n",
              "    (() => {\n",
              "      let quickchartButtonEl =\n",
              "        document.querySelector('#df-3c2e9635-ab44-4510-b0fc-02244c3d014c button');\n",
              "      quickchartButtonEl.style.display =\n",
              "        google.colab.kernel.accessAllowed ? 'block' : 'none';\n",
              "    })();\n",
              "  </script>\n",
              "</div>\n",
              "\n",
              "    </div>\n",
              "  </div>\n"
            ],
            "application/vnd.google.colaboratory.intrinsic+json": {
              "type": "dataframe",
              "variable_name": "df",
              "summary": "{\n  \"name\": \"df\",\n  \"rows\": 10000,\n  \"fields\": [\n    {\n      \"column\": \"emp_id\",\n      \"properties\": {\n        \"dtype\": \"number\",\n        \"std\": 2886,\n        \"min\": 10000,\n        \"max\": 19999,\n        \"num_unique_values\": 10000,\n        \"samples\": [\n          16252,\n          14684,\n          11731\n        ],\n        \"semantic_type\": \"\",\n        \"description\": \"\"\n      }\n    },\n    {\n      \"column\": \"numkids\",\n      \"properties\": {\n        \"dtype\": \"number\",\n        \"std\": 1,\n        \"min\": 0,\n        \"max\": 6,\n        \"num_unique_values\": 7,\n        \"samples\": [\n          4,\n          0,\n          6\n        ],\n        \"semantic_type\": \"\",\n        \"description\": \"\"\n      }\n    },\n    {\n      \"column\": \"wfh\",\n      \"properties\": {\n        \"dtype\": \"number\",\n        \"std\": 0,\n        \"min\": 0,\n        \"max\": 1,\n        \"num_unique_values\": 2,\n        \"samples\": [\n          0,\n          1\n        ],\n        \"semantic_type\": \"\",\n        \"description\": \"\"\n      }\n    },\n    {\n      \"column\": \"productivity\",\n      \"properties\": {\n        \"dtype\": \"number\",\n        \"std\": 1.640374232792948,\n        \"min\": -2.62313383289546,\n        \"max\": 9.022900479874172,\n        \"num_unique_values\": 10000,\n        \"samples\": [\n          1.9210407924839885,\n          1.6741977986523535\n        ],\n        \"semantic_type\": \"\",\n        \"description\": \"\"\n      }\n    },\n    {\n      \"column\": \"introversion\",\n      \"properties\": {\n        \"dtype\": \"number\",\n        \"std\": 1.4982536800889878,\n        \"min\": -0.48466014888219267,\n        \"max\": 11.040273566821067,\n        \"num_unique_values\": 10000,\n        \"samples\": [\n          6.064274968441581,\n          5.211202404798157\n        ],\n        \"semantic_type\": \"\",\n        \"description\": \"\"\n      }\n    }\n  ]\n}"
            }
          },
          "metadata": {},
          "execution_count": 10
        }
      ]
    },
    {
      "cell_type": "code",
      "source": [
        "# create the DAG\n",
        "nodes = ['introversion','wfh','numkids','productivity']\n",
        "edges = [['introversion','wfh'],\n",
        "         ['introversion','productivity'],\n",
        "         ['wfh','productivity'],\n",
        "         ['numkids','productivity'],\n",
        "         ['numkids','wfh']\n",
        "        ]\n",
        "gml_graph = 'graph [directed 1\\n'\n",
        "\n",
        "for node in nodes:\n",
        "  gml_graph += f'\\tnode [id \"{node}\" label \"{node}\"]\\n'\n",
        "\n",
        "for edge in edges:\n",
        "  gml_graph += f'\\tedge [source \"{edge[0]}\" target \"{edge[1]}\"]\\n'\n",
        "\n",
        "gml_graph += ']'\n",
        "\n",
        "model = CausalModel(\n",
        "    data = df,\n",
        "    treatment = 'wfh',\n",
        "    outcome = 'productivity',\n",
        "    graph = gml_graph\n",
        ")\n",
        "model.view_model()"
      ],
      "metadata": {
        "colab": {
          "base_uri": "https://localhost:8080/",
          "height": 516
        },
        "id": "ujB5PFTzF6Rr",
        "outputId": "e35bd047-1427-40f2-cf00-0b815bce7468"
      },
      "execution_count": 14,
      "outputs": [
        {
          "output_type": "stream",
          "name": "stderr",
          "text": [
            "WARNING:dowhy.causal_model:There are an additional 1 variables in the dataset that are not in the graph. Variable names are: '['emp_id']'\n"
          ]
        },
        {
          "output_type": "display_data",
          "data": {
            "text/plain": [
              "<Figure size 800x600 with 1 Axes>"
            ],
            "image/png": "[encoded data removed]"
          },
          "metadata": {}
        }
      ]
    },
    {
      "cell_type": "code",
      "source": [
        "df.describe()"
      ],
      "metadata": {
        "colab": {
          "base_uri": "https://localhost:8080/",
          "height": 300
        },
        "id": "TVshS9NnH2Rk",
        "outputId": "e32e1c91-dd2f-4e02-b67b-fee77c917382"
      },
      "execution_count": 15,
      "outputs": [
        {
          "output_type": "execute_result",
          "data": {
            "text/plain": [
              "            emp_id       numkids           wfh  productivity  introversion\n",
              "count  10000.00000  10000.000000  10000.000000  10000.000000  10000.000000\n",
              "mean   14999.50000      1.924700      0.598500      2.643524      5.014659\n",
              "std     2886.89568      1.783577      0.490226      1.640374      1.498254\n",
              "min    10000.00000      0.000000      0.000000     -2.623134     -0.484660\n",
              "25%    12499.75000      0.000000      0.000000      1.475912      4.005613\n",
              "50%    14999.50000      2.000000      1.000000      2.412462      5.012681\n",
              "75%    17499.25000      3.000000      1.000000      3.795038      6.007713\n",
              "max    19999.00000      6.000000      1.000000      9.022900     11.040274"
            ],
            "text/html": [
              "\n",
              "  <div id=\"df-a0d80516-b3b4-4d35-af71-f2881a294b4c\" class=\"colab-df-container\">\n",
              "    <div>\n",
              "<style scoped>\n",
              "    .dataframe tbody tr th:only-of-type {\n",
              "        vertical-align: middle;\n",
              "    }\n",
              "\n",
              "    .dataframe tbody tr th {\n",
              "        vertical-align: top;\n",
              "    }\n",
              "\n",
              "    .dataframe thead th {\n",
              "        text-align: right;\n",
              "    }\n",
              "</style>\n",
              "<table border=\"1\" class=\"dataframe\">\n",
              "  <thead>\n",
              "    <tr style=\"text-align: right;\">\n",
              "      <th></th>\n",
              "      <th>emp_id</th>\n",
              "      <th>numkids</th>\n",
              "      <th>wfh</th>\n",
              "      <th>productivity</th>\n",
              "      <th>introversion</th>\n",
              "    </tr>\n",
              "  </thead>\n",
              "  <tbody>\n",
              "    <tr>\n",
              "      <th>count</th>\n",
              "      <td>10000.00000</td>\n",
              "      <td>10000.000000</td>\n",
              "      <td>10000.000000</td>\n",
              "      <td>10000.000000</td>\n",
              "      <td>10000.000000</td>\n",
              "    </tr>\n",
              "    <tr>\n",
              "      <th>mean</th>\n",
              "      <td>14999.50000</td>\n",
              "      <td>1.924700</td>\n",
              "      <td>0.598500</td>\n",
              "      <td>2.643524</td>\n",
              "      <td>5.014659</td>\n",
              "    </tr>\n",
              "    <tr>\n",
              "      <th>std</th>\n",
              "      <td>2886.89568</td>\n",
              "      <td>1.783577</td>\n",
              "      <td>0.490226</td>\n",
              "      <td>1.640374</td>\n",
              "      <td>1.498254</td>\n",
              "    </tr>\n",
              "    <tr>\n",
              "      <th>min</th>\n",
              "      <td>10000.00000</td>\n",
              "      <td>0.000000</td>\n",
              "      <td>0.000000</td>\n",
              "      <td>-2.623134</td>\n",
              "      <td>-0.484660</td>\n",
              "    </tr>\n",
              "    <tr>\n",
              "      <th>25%</th>\n",
              "      <td>12499.75000</td>\n",
              "      <td>0.000000</td>\n",
              "      <td>0.000000</td>\n",
              "      <td>1.475912</td>\n",
              "      <td>4.005613</td>\n",
              "    </tr>\n",
              "    <tr>\n",
              "      <th>50%</th>\n",
              "      <td>14999.50000</td>\n",
              "      <td>2.000000</td>\n",
              "      <td>1.000000</td>\n",
              "      <td>2.412462</td>\n",
              "      <td>5.012681</td>\n",
              "    </tr>\n",
              "    <tr>\n",
              "      <th>75%</th>\n",
              "      <td>17499.25000</td>\n",
              "      <td>3.000000</td>\n",
              "      <td>1.000000</td>\n",
              "      <td>3.795038</td>\n",
              "      <td>6.007713</td>\n",
              "    </tr>\n",
              "    <tr>\n",
              "      <th>max</th>\n",
              "      <td>19999.00000</td>\n",
              "      <td>6.000000</td>\n",
              "      <td>1.000000</td>\n",
              "      <td>9.022900</td>\n",
              "      <td>11.040274</td>\n",
              "    </tr>\n",
              "  </tbody>\n",
              "</table>\n",
              "</div>\n",
              "    <div class=\"colab-df-buttons\">\n",
              "\n",
              "  <div class=\"colab-df-container\">\n",
              "    <button class=\"colab-df-convert\" onclick=\"convertToInteractive('df-a0d80516-b3b4-4d35-af71-f2881a294b4c')\"\n",
              "            title=\"Convert this dataframe to an interactive table.\"\n",
              "            style=\"display:none;\">\n",
              "\n",
              "  <svg xmlns=\"http://www.w3.org/2000/svg\" height=\"24px\" viewBox=\"0 -960 960 960\">\n",
              "    <path d=\"M120-120v-720h720v720H120Zm60-500h600v-160H180v160Zm220 220h160v-160H400v160Zm0 220h160v-160H400v160ZM180-400h160v-160H180v160Zm440 0h160v-160H620v160ZM180-180h160v-160H180v160Zm440 0h160v-160H620v160Z\"/>\n",
              "  </svg>\n",
              "    </button>\n",
              "\n",
              "  <style>\n",
              "    .colab-df-container {\n",
              "      display:flex;\n",
              "      gap: 12px;\n",
              "    }\n",
              "\n",
              "    .colab-df-convert {\n",
              "      background-color: #E8F0FE;\n",
              "      border: none;\n",
              "      border-radius: 50%;\n",
              "      cursor: pointer;\n",
              "      display: none;\n",
              "      fill: #1967D2;\n",
              "      height: 32px;\n",
              "      padding: 0 0 0 0;\n",
              "      width: 32px;\n",
              "    }\n",
              "\n",
              "    .colab-df-convert:hover {\n",
              "      background-color: #E2EBFA;\n",
              "      box-shadow: 0px 1px 2px rgba(60, 64, 67, 0.3), 0px 1px 3px 1px rgba(60, 64, 67, 0.15);\n",
              "      fill: #174EA6;\n",
              "    }\n",
              "\n",
              "    .colab-df-buttons div {\n",
              "      margin-bottom: 4px;\n",
              "    }\n",
              "\n",
              "    [theme=dark] .colab-df-convert {\n",
              "      background-color: #3B4455;\n",
              "      fill: #D2E3FC;\n",
              "    }\n",
              "\n",
              "    [theme=dark] .colab-df-convert:hover {\n",
              "      background-color: #434B5C;\n",
              "      box-shadow: 0px 1px 3px 1px rgba(0, 0, 0, 0.15);\n",
              "      filter: drop-shadow(0px 1px 2px rgba(0, 0, 0, 0.3));\n",
              "      fill: #FFFFFF;\n",
              "    }\n",
              "  </style>\n",
              "\n",
              "    <script>\n",
              "      const buttonEl =\n",
              "        document.querySelector('#df-a0d80516-b3b4-4d35-af71-f2881a294b4c button.colab-df-convert');\n",
              "      buttonEl.style.display =\n",
              "        google.colab.kernel.accessAllowed ? 'block' : 'none';\n",
              "\n",
              "      async function convertToInteractive(key) {\n",
              "        const element = document.querySelector('#df-a0d80516-b3b4-4d35-af71-f2881a294b4c');\n",
              "        const dataTable =\n",
              "          await google.colab.kernel.invokeFunction('convertToInteractive',\n",
              "                                                    [key], {});\n",
              "        if (!dataTable) return;\n",
              "\n",
              "        const docLinkHtml = 'Like what you see? Visit the ' +\n",
              "          '<a target=\"_blank\" href=https://colab.research.google.com/notebooks/data_table.ipynb>data table notebook</a>'\n",
              "          + ' to learn more about interactive tables.';\n",
              "        element.innerHTML = '';\n",
              "        dataTable['output_type'] = 'display_data';\n",
              "        await google.colab.output.renderOutput(dataTable, element);\n",
              "        const docLink = document.createElement('div');\n",
              "        docLink.innerHTML = docLinkHtml;\n",
              "        element.appendChild(docLink);\n",
              "      }\n",
              "    </script>\n",
              "  </div>\n",
              "\n",
              "\n",
              "<div id=\"df-5863be66-3514-4394-bc44-95a678d1e5f5\">\n",
              "  <button class=\"colab-df-quickchart\" onclick=\"quickchart('df-5863be66-3514-4394-bc44-95a678d1e5f5')\"\n",
              "            title=\"Suggest charts\"\n",
              "            style=\"display:none;\">\n",
              "\n",
              "<svg xmlns=\"http://www.w3.org/2000/svg\" height=\"24px\"viewBox=\"0 0 24 24\"\n",
              "     width=\"24px\">\n",
              "    <g>\n",
              "        <path d=\"M19 3H5c-1.1 0-2 .9-2 2v14c0 1.1.9 2 2 2h14c1.1 0 2-.9 2-2V5c0-1.1-.9-2-2-2zM9 17H7v-7h2v7zm4 0h-2V7h2v10zm4 0h-2v-4h2v4z\"/>\n",
              "    </g>\n",
              "</svg>\n",
              "  </button>\n",
              "\n",
              "<style>\n",
              "  .colab-df-quickchart {\n",
              "      --bg-color: #E8F0FE;\n",
              "      --fill-color: #1967D2;\n",
              "      --hover-bg-color: #E2EBFA;\n",
              "      --hover-fill-color: #174EA6;\n",
              "      --disabled-fill-color: #AAA;\n",
              "      --disabled-bg-color: #DDD;\n",
              "  }\n",
              "\n",
              "  [theme=dark] .colab-df-quickchart {\n",
              "      --bg-color: #3B4455;\n",
              "      --fill-color: #D2E3FC;\n",
              "      --hover-bg-color: #434B5C;\n",
              "      --hover-fill-color: #FFFFFF;\n",
              "      --disabled-bg-color: #3B4455;\n",
              "      --disabled-fill-color: #666;\n",
              "  }\n",
              "\n",
              "  .colab-df-quickchart {\n",
              "    background-color: var(--bg-color);\n",
              "    border: none;\n",
              "    border-radius: 50%;\n",
              "    cursor: pointer;\n",
              "    display: none;\n",
              "    fill: var(--fill-color);\n",
              "    height: 32px;\n",
              "    padding: 0;\n",
              "    width: 32px;\n",
              "  }\n",
              "\n",
              "  .colab-df-quickchart:hover {\n",
              "    background-color: var(--hover-bg-color);\n",
              "    box-shadow: 0 1px 2px rgba(60, 64, 67, 0.3), 0 1px 3px 1px rgba(60, 64, 67, 0.15);\n",
              "    fill: var(--button-hover-fill-color);\n",
              "  }\n",
              "\n",
              "  .colab-df-quickchart-complete:disabled,\n",
              "  .colab-df-quickchart-complete:disabled:hover {\n",
              "    background-color: var(--disabled-bg-color);\n",
              "    fill: var(--disabled-fill-color);\n",
              "    box-shadow: none;\n",
              "  }\n",
              "\n",
              "  .colab-df-spinner {\n",
              "    border: 2px solid var(--fill-color);\n",
              "    border-color: transparent;\n",
              "    border-bottom-color: var(--fill-color);\n",
              "    animation:\n",
              "      spin 1s steps(1) infinite;\n",
              "  }\n",
              "\n",
              "  @keyframes spin {\n",
              "    0% {\n",
              "      border-color: transparent;\n",
              "      border-bottom-color: var(--fill-color);\n",
              "      border-left-color: var(--fill-color);\n",
              "    }\n",
              "    20% {\n",
              "      border-color: transparent;\n",
              "      border-left-color: var(--fill-color);\n",
              "      border-top-color: var(--fill-color);\n",
              "    }\n",
              "    30% {\n",
              "      border-color: transparent;\n",
              "      border-left-color: var(--fill-color);\n",
              "      border-top-color: var(--fill-color);\n",
              "      border-right-color: var(--fill-color);\n",
              "    }\n",
              "    40% {\n",
              "      border-color: transparent;\n",
              "      border-right-color: var(--fill-color);\n",
              "      border-top-color: var(--fill-color);\n",
              "    }\n",
              "    60% {\n",
              "      border-color: transparent;\n",
              "      border-right-color: var(--fill-color);\n",
              "    }\n",
              "    80% {\n",
              "      border-color: transparent;\n",
              "      border-right-color: var(--fill-color);\n",
              "      border-bottom-color: var(--fill-color);\n",
              "    }\n",
              "    90% {\n",
              "      border-color: transparent;\n",
              "      border-bottom-color: var(--fill-color);\n",
              "    }\n",
              "  }\n",
              "</style>\n",
              "\n",
              "  <script>\n",
              "    async function quickchart(key) {\n",
              "      const quickchartButtonEl =\n",
              "        document.querySelector('#' + key + ' button');\n",
              "      quickchartButtonEl.disabled = true;  // To prevent multiple clicks.\n",
              "      quickchartButtonEl.classList.add('colab-df-spinner');\n",
              "      try {\n",
              "        const charts = await google.colab.kernel.invokeFunction(\n",
              "            'suggestCharts', [key], {});\n",
              "      } catch (error) {\n",
              "        console.error('Error during call to suggestCharts:', error);\n",
              "      }\n",
              "      quickchartButtonEl.classList.remove('colab-df-spinner');\n",
              "      quickchartButtonEl.classList.add('colab-df-quickchart-complete');\n",
              "    }\n",
              "    (() => {\n",
              "      let quickchartButtonEl =\n",
              "        document.querySelector('#df-5863be66-3514-4394-bc44-95a678d1e5f5 button');\n",
              "      quickchartButtonEl.style.display =\n",
              "        google.colab.kernel.accessAllowed ? 'block' : 'none';\n",
              "    })();\n",
              "  </script>\n",
              "</div>\n",
              "\n",
              "    </div>\n",
              "  </div>\n"
            ],
            "application/vnd.google.colaboratory.intrinsic+json": {
              "type": "dataframe",
              "summary": "{\n  \"name\": \"df\",\n  \"rows\": 8,\n  \"fields\": [\n    {\n      \"column\": \"emp_id\",\n      \"properties\": {\n        \"dtype\": \"number\",\n        \"std\": 5312.985036781033,\n        \"min\": 2886.8956799071675,\n        \"max\": 19999.0,\n        \"num_unique_values\": 6,\n        \"samples\": [\n          10000.0,\n          14999.5,\n          19999.0\n        ],\n        \"semantic_type\": \"\",\n        \"description\": \"\"\n      }\n    },\n    {\n      \"column\": \"numkids\",\n      \"properties\": {\n        \"dtype\": \"number\",\n        \"std\": 3534.791530540432,\n        \"min\": 0.0,\n        \"max\": 10000.0,\n        \"num_unique_values\": 7,\n        \"samples\": [\n          10000.0,\n          1.9247,\n          3.0\n        ],\n        \"semantic_type\": \"\",\n        \"description\": \"\"\n      }\n    },\n    {\n      \"column\": \"wfh\",\n      \"properties\": {\n        \"dtype\": \"number\",\n        \"std\": 3535.3274185240098,\n        \"min\": 0.0,\n        \"max\": 10000.0,\n        \"num_unique_values\": 5,\n        \"samples\": [\n          0.5985,\n          1.0,\n          0.49022625610856246\n        ],\n        \"semantic_type\": \"\",\n        \"description\": \"\"\n      }\n    },\n    {\n      \"column\": \"productivity\",\n      \"properties\": {\n        \"dtype\": \"number\",\n        \"std\": 3534.6076871275113,\n        \"min\": -2.62313383289546,\n        \"max\": 10000.0,\n        \"num_unique_values\": 8,\n        \"samples\": [\n          2.6435241908937677,\n          2.412462355379695,\n          10000.0\n        ],\n        \"semantic_type\": \"\",\n        \"description\": \"\"\n      }\n    },\n    {\n      \"column\": \"introversion\",\n      \"properties\": {\n        \"dtype\": \"number\",\n        \"std\": 3533.914496668765,\n        \"min\": -0.48466014888219267,\n        \"max\": 10000.0,\n        \"num_unique_values\": 8,\n        \"samples\": [\n          5.014658985048658,\n          5.01268108114513,\n          10000.0\n        ],\n        \"semantic_type\": \"\",\n        \"description\": \"\"\n      }\n    }\n  ]\n}"
            }
          },
          "metadata": {},
          "execution_count": 15
        }
      ]
    },
    {
      "cell_type": "markdown",
      "source": [
        "Before we run a causal model let's look at a naive linear regression of productivity as a function of working from home."
      ],
      "metadata": {
        "id": "ciUde__uIf7s"
      }
    },
    {
      "cell_type": "code",
      "source": [
        "X = df[['wfh']].astype(float)\n",
        "y = df[['productivity']].astype(float)\n",
        "\n",
        "X = sm.add_constant(X)\n",
        "\n",
        "ols = sm.OLS(y, X).fit()\n",
        "\n",
        "print(ols.summary().tables[1])"
      ],
      "metadata": {
        "colab": {
          "base_uri": "https://localhost:8080/"
        },
        "id": "lKZJdsW-IdYq",
        "outputId": "4ac28e2b-399a-43a9-bbec-69c9aea1c25a"
      },
      "execution_count": 18,
      "outputs": [
        {
          "output_type": "stream",
          "name": "stdout",
          "text": [
            "==============================================================================\n",
            "                 coef    std err          t      P>|t|      [0.025      0.975]\n",
            "------------------------------------------------------------------------------\n",
            "const          1.4140      0.020     69.192      0.000       1.374       1.454\n",
            "wfh            2.0543      0.026     77.770      0.000       2.003       2.106\n",
            "==============================================================================\n"
          ]
        }
      ]
    },
    {
      "cell_type": "markdown",
      "source": [
        "The naive regression approach incorrectly estiamtes the effect of working from home on productivity as 2 when the true effect is 3 as specified in our data creation (60*0.05 = 3)\n",
        "\n",
        "## The Backdoor approach\n",
        "If we are able to control for the confounders (introversion and number of kids) we can block the backdoor pathways of spurious correlation. Sometimes backdoor pathways flow through multiple parent and cousin nodes. It is sufficient to control for just one variable along each path to effectively block those backdoor pathways. This will allow us to identify the true causal relationship of X on Y"
      ],
      "metadata": {
        "id": "MtgylVQ1I7vd"
      }
    },
    {
      "cell_type": "code",
      "source": [
        "X = df[['wfh','numkids','introversion']].astype(float)\n",
        "y = df['productivity'].astype(float)\n",
        "\n",
        "X = sm.add_constant(X)\n",
        "\n",
        "ols = sm.OLS(y, X).fit()\n",
        "\n",
        "print(ols.summary().tables[1])"
      ],
      "metadata": {
        "colab": {
          "base_uri": "https://localhost:8080/"
        },
        "id": "2Hpyk-KfI2DZ",
        "outputId": "17347b91-ddba-4f28-e625-f103c652565d"
      },
      "execution_count": 19,
      "outputs": [
        {
          "output_type": "stream",
          "name": "stdout",
          "text": [
            "================================================================================\n",
            "                   coef    std err          t      P>|t|      [0.025      0.975]\n",
            "--------------------------------------------------------------------------------\n",
            "const            0.0083      0.023      0.365      0.715      -0.036       0.053\n",
            "wfh              3.0022      0.017    179.170      0.000       2.969       3.035\n",
            "numkids         -0.6036      0.004   -136.993      0.000      -0.612      -0.595\n",
            "introversion     0.3989      0.004     90.364      0.000       0.390       0.408\n",
            "================================================================================\n"
          ]
        }
      ]
    },
    {
      "cell_type": "markdown",
      "source": [
        "Controlling for the appropriate confounders enables identification of the true causal effect of wfh on productivity.\n",
        "\n",
        "## Colliders (children or their descendents that are affected by the variable of interest and the outcome)\n",
        "But what if we control for a collider? Let's add PM rating to the data and the graph and see what happens when we control for it. We assume working from home will affect PM rating, we also assume productivity affects PM rating, thus it is a collider."
      ],
      "metadata": {
        "id": "tZHtsG7WP5Kp"
      }
    },
    {
      "cell_type": "code",
      "source": [
        "# add PM rating to the dataframe\n",
        "df = fulldf[['emp_id', 'numkids', 'wfh', 'productivity','introversion','pm_rating']]\n",
        "\n",
        "# create the DAG\n",
        "nodes = ['introversion','wfh','numkids','productivity','pm_rating']\n",
        "edges = [['introversion','wfh'],\n",
        "         ['introversion','productivity'],\n",
        "         ['wfh','productivity'],\n",
        "         ['numkids','productivity'],\n",
        "         ['numkids','wfh'],\n",
        "         ['wfh','pm_rating'],\n",
        "         ['productivity','pm_rating']\n",
        "        ]\n",
        "gml_graph = 'graph [directed 1\\n'\n",
        "\n",
        "for node in nodes:\n",
        "  gml_graph += f'\\tnode [id \"{node}\" label \"{node}\"]\\n'\n",
        "\n",
        "for edge in edges:\n",
        "  gml_graph += f'\\tedge [source \"{edge[0]}\" target \"{edge[1]}\"]\\n'\n",
        "\n",
        "gml_graph += ']'\n",
        "\n",
        "model = CausalModel(\n",
        "    data = df,\n",
        "    treatment = 'wfh',\n",
        "    outcome = 'productivity',\n",
        "    graph = gml_graph\n",
        ")\n",
        "model.view_model()"
      ],
      "metadata": {
        "colab": {
          "base_uri": "https://localhost:8080/",
          "height": 516
        },
        "id": "tuTsymCCJdlL",
        "outputId": "c609197e-9d50-4248-df9f-23b75c292c96"
      },
      "execution_count": 21,
      "outputs": [
        {
          "output_type": "stream",
          "name": "stderr",
          "text": [
            "WARNING:dowhy.causal_model:There are an additional 1 variables in the dataset that are not in the graph. Variable names are: '['emp_id']'\n"
          ]
        },
        {
          "output_type": "display_data",
          "data": {
            "text/plain": [
              "<Figure size 800x600 with 1 Axes>"
            ],
            "image/png": "[encoded data removed]"
          },
          "metadata": {}
        }
      ]
    },
    {
      "cell_type": "code",
      "source": [
        "# Estimate the model including PM rating as a control in addition to the confounders:\n",
        "X = df[['wfh','numkids','introversion','pm_rating']].astype(float)\n",
        "y = df['productivity'].astype(float)\n",
        "\n",
        "X = sm.add_constant(X)\n",
        "\n",
        "ols = sm.OLS(y, X).fit()\n",
        "\n",
        "print(ols.summary().tables[1])"
      ],
      "metadata": {
        "colab": {
          "base_uri": "https://localhost:8080/"
        },
        "id": "UQeT303uQhyE",
        "outputId": "73162026-fb7c-4a5b-caee-d024ca70e6b6"
      },
      "execution_count": 22,
      "outputs": [
        {
          "output_type": "stream",
          "name": "stdout",
          "text": [
            "================================================================================\n",
            "                   coef    std err          t      P>|t|      [0.025      0.975]\n",
            "--------------------------------------------------------------------------------\n",
            "const           -1.0492      0.021    -49.269      0.000      -1.091      -1.007\n",
            "wfh              1.5786      0.021     75.192      0.000       1.537       1.620\n",
            "numkids         -0.3493      0.004    -77.889      0.000      -0.358      -0.341\n",
            "introversion     0.2317      0.004     59.606      0.000       0.224       0.239\n",
            "pm_rating        0.5261      0.006     85.338      0.000       0.514       0.538\n",
            "================================================================================\n"
          ]
        }
      ]
    },
    {
      "cell_type": "markdown",
      "source": [
        "Controlling for colliders has the opposite effect compared to controlling for confounders. When we control for a confounder we block the influence of parent nodes that create spurious correlation. When we control for a child node that is a collider, we are opening up a path of spurious correlation that was previously closed when not controlling for it. Selection bias is a common form of collider bias."
      ],
      "metadata": {
        "id": "pRSqxRHqQxgq"
      }
    },
    {
      "cell_type": "markdown",
      "source": [
        "## The Frontdoor Approach\n",
        "Often we don't have good data on the confounders. It is still possible to identify the underlying causal effect of one variable on another with a little creativity. The frontdoor approach takes advantage of a mediator variable between the variable of interest and the outcome to estimate the true causal effect."
      ],
      "metadata": {
        "id": "mvTHEII9R-hx"
      }
    },
    {
      "cell_type": "markdown",
      "source": [
        "Let's get data on a mediator between wfh and productivity. The primary mechanism through which working from home will affect productivity is minutes saved by not commuting or getting distracted by office antics. Suppose we use location data to estimate commute time for all of our associates and call that minutes saved. We assume that Number of Kids and introversion are not correlated with commute time.\n",
        "\n",
        "We take a two stage approach.\n",
        "1.   First, we estimate the causal impact of working from home on minutes saved directly as there are no confounders in this relationship.\n",
        "2.   Second we estiamte the effect of minutes saved on productivity **controlling for work from home status**.\n",
        "\n",
        "By controlling for WFH status in the second stage, we are able to block all backdoor pathways of spurious correlation that could otherwise influence the estimate of minutes saved on productivity.\n",
        "\n",
        "Finally we just multiply the two effects together. The effect of working from home on minutes saved which is effectively an estimate of how many minutes are saved by working from home is multiplied by our estimate of the effect of an additional minute on productivity."
      ],
      "metadata": {
        "id": "gKiQl6rST_L-"
      }
    },
    {
      "cell_type": "code",
      "source": [
        "# Add minutes saved to the data and to the graph so we can see where it fits in\n",
        "df = fulldf[['emp_id', 'numkids', 'wfh', 'productivity','introversion','pm_rating','min_saved']]\n",
        "\n",
        "# create the DAG\n",
        "nodes = ['introversion','wfh','numkids','productivity','pm_rating','min_saved']\n",
        "edges = [['introversion','wfh'],\n",
        "         ['introversion','productivity'],\n",
        "         ['wfh','min_saved'],\n",
        "         ['min_saved','productivity'],\n",
        "         ['numkids','productivity'],\n",
        "         ['numkids','wfh'],\n",
        "         ['wfh','pm_rating'],\n",
        "         ['productivity','pm_rating']\n",
        "        ]\n",
        "gml_graph = 'graph [directed 1\\n'\n",
        "\n",
        "for node in nodes:\n",
        "  gml_graph += f'\\tnode [id \"{node}\" label \"{node}\"]\\n'\n",
        "\n",
        "for edge in edges:\n",
        "  gml_graph += f'\\tedge [source \"{edge[0]}\" target \"{edge[1]}\"]\\n'\n",
        "\n",
        "gml_graph += ']'\n",
        "\n",
        "model = CausalModel(\n",
        "    data = df,\n",
        "    treatment = 'wfh',\n",
        "    outcome = 'productivity',\n",
        "    graph = gml_graph\n",
        ")\n",
        "model.view_model()"
      ],
      "metadata": {
        "colab": {
          "base_uri": "https://localhost:8080/",
          "height": 516
        },
        "id": "rpWXYueMVuj-",
        "outputId": "c86aae3e-c6dd-4998-ff80-04f589467f16"
      },
      "execution_count": 24,
      "outputs": [
        {
          "output_type": "stream",
          "name": "stderr",
          "text": [
            "WARNING:dowhy.causal_model:There are an additional 1 variables in the dataset that are not in the graph. Variable names are: '['emp_id']'\n"
          ]
        },
        {
          "output_type": "display_data",
          "data": {
            "text/plain": [
              "<Figure size 800x600 with 1 Axes>"
            ],
            "image/png": "[encoded data removed]"
          },
          "metadata": {}
        }
      ]
    },
    {
      "cell_type": "code",
      "source": [
        "# Stage 1\n",
        "X = df[['wfh']].astype(float)\n",
        "y = df['min_saved'].astype(float)\n",
        "\n",
        "X = sm.add_constant(X)\n",
        "ols = sm.OLS(y, X).fit()\n",
        "print(ols.summary().tables[1])\n",
        "coeff1 = ols.params['wfh']\n",
        "\n",
        "# Stage 2\n",
        "X = df[['min_saved','wfh']].astype(float)\n",
        "y = df['productivity'].astype(float)\n",
        "\n",
        "X = sm.add_constant(X)\n",
        "ols = sm.OLS(y, X).fit()\n",
        "print(ols.summary().tables[1])\n",
        "coeff2 = ols.params['min_saved']\n",
        "\n",
        "causal_effect = coeff1*coeff2\n",
        "print(f'the estimated causal effect of WFH on Productivity is  {round(causal_effect,2)}')"
      ],
      "metadata": {
        "colab": {
          "base_uri": "https://localhost:8080/"
        },
        "id": "mNw2KrYaQuha",
        "outputId": "d36c8594-ad11-4cf2-8274-2ecc6d4a5f72"
      },
      "execution_count": 29,
      "outputs": [
        {
          "output_type": "stream",
          "name": "stdout",
          "text": [
            "==============================================================================\n",
            "                 coef    std err          t      P>|t|      [0.025      0.975]\n",
            "------------------------------------------------------------------------------\n",
            "const      -8.373e-15      0.184  -4.56e-14      1.000      -0.360       0.360\n",
            "wfh           59.9170      0.237    252.578      0.000      59.452      60.382\n",
            "==============================================================================\n",
            "==============================================================================\n",
            "                 coef    std err          t      P>|t|      [0.025      0.975]\n",
            "------------------------------------------------------------------------------\n",
            "const          1.4140      0.018     77.593      0.000       1.378       1.450\n",
            "min_saved      0.0504      0.001     50.757      0.000       0.048       0.052\n",
            "wfh           -0.9658      0.064    -15.092      0.000      -1.091      -0.840\n",
            "==============================================================================\n",
            "the estimated causal effect of WFH on Productivity is  3.02\n"
          ]
        }
      ]
    },
    {
      "cell_type": "markdown",
      "source": [
        "## Instrumental Variables Approach\n",
        "IV estimation relies on having an exogenous variable that is only correlated with the variable of interest and that correlation needs to be strong. It has to be uncorrelated with the outcome in all respects except through it's influence on the variable of interest. It must also be uncorrelated with anything that confounds the relationship between the variable of interest and the outcome.\n",
        "\n",
        "### Close the Silver line metro\n",
        "Suppose we lewarn that there was as subway closure that affected the ability of a portion of our workforce to come into the office and forced people along that subway line to work from home full time. This sets up what can be though of a s a natural experiment. It can be strongly argued that the subway closure has nothing to do with the confounders of number of kids or a level of introversion and therefore not affected by the unobserved confounders. It can also be argued that the closure of the subway is highly correlated with the decision to work from home for the time period in which the subway was closed. Also closing down a subway should not affect the productivity of workers in general except through it's impact on whether or not they work from home."
      ],
      "metadata": {
        "id": "15ZyR5P5XhyS"
      }
    },
    {
      "cell_type": "code",
      "source": [
        "# Add subway closure to the data and to the graph so we can see where it fits in\n",
        "df = fulldf[['emp_id', 'numkids', 'wfh', 'productivity','introversion','pm_rating','min_saved', 'subway_closure']]\n",
        "\n",
        "# create the DAG\n",
        "nodes = ['introversion','wfh','numkids','productivity','pm_rating','min_saved','subway_closure']\n",
        "edges = [['introversion','wfh'],\n",
        "         ['introversion','productivity'],\n",
        "         ['wfh','min_saved'],\n",
        "         ['min_saved','productivity'],\n",
        "         ['numkids','productivity'],\n",
        "         ['numkids','wfh'],\n",
        "         ['wfh','pm_rating'],\n",
        "         ['productivity','pm_rating'],\n",
        "         ['subway_closure','wfh']\n",
        "        ]\n",
        "gml_graph = 'graph [directed 1\\n'\n",
        "\n",
        "for node in nodes:\n",
        "  gml_graph += f'\\tnode [id \"{node}\" label \"{node}\"]\\n'\n",
        "\n",
        "for edge in edges:\n",
        "  gml_graph += f'\\tedge [source \"{edge[0]}\" target \"{edge[1]}\"]\\n'\n",
        "\n",
        "gml_graph += ']'\n",
        "\n",
        "model = CausalModel(\n",
        "    data = df,\n",
        "    treatment = 'wfh',\n",
        "    outcome = 'productivity',\n",
        "    graph = gml_graph\n",
        ")\n",
        "model.view_model()"
      ],
      "metadata": {
        "colab": {
          "base_uri": "https://localhost:8080/",
          "height": 516
        },
        "id": "vLvgjR_TVmhi",
        "outputId": "5bfc6a0b-a381-47c2-c7b9-ab0896a11d88"
      },
      "execution_count": 30,
      "outputs": [
        {
          "output_type": "stream",
          "name": "stderr",
          "text": [
            "WARNING:dowhy.causal_model:There are an additional 1 variables in the dataset that are not in the graph. Variable names are: '['emp_id']'\n"
          ]
        },
        {
          "output_type": "display_data",
          "data": {
            "text/plain": [
              "<Figure size 800x600 with 1 Axes>"
            ],
            "image/png": "[encoded data removed]"
          },
          "metadata": {}
        }
      ]
    },
    {
      "cell_type": "code",
      "source": [
        "# Check the correlation between Subway Closure and WFH (should be strong)\n",
        "print(round(df['wfh'].corr(df['subway_closure']),2))"
      ],
      "metadata": {
        "colab": {
          "base_uri": "https://localhost:8080/"
        },
        "id": "k7eP9zA_aC9I",
        "outputId": "08195225-cfb8-4470-e27d-fd279708af48"
      },
      "execution_count": 34,
      "outputs": [
        {
          "output_type": "stream",
          "name": "stdout",
          "text": [
            "0.41\n"
          ]
        }
      ]
    },
    {
      "cell_type": "markdown",
      "source": [
        "### Two stage estimation process\n",
        "## First stage\n",
        "In the first stage we fit a predictive model of the instrumental variable on the variable of interest (the treatment variable). In this case we fit a model of subway closure on wfh status.\n",
        "We then generate predicted values for wfh status based on that model. This is why it's really important to have strong correlation between the instrument and the treatment variable. The instrument has to be able to predict the treatment variable.\n",
        "\n",
        "## Second stage\n",
        "We use the predicted values from the first stage to estimate the effect of wfh on productivity. By using the predicted values we ensure that the impact of the unobserved factors is completely removed from the estimate."
      ],
      "metadata": {
        "id": "7BQ-bKokbVE9"
      }
    },
    {
      "cell_type": "code",
      "source": [
        "# Stage 1\n",
        "X = df[['subway_closure']].astype(float)\n",
        "y = df['wfh'].astype(float)\n",
        "\n",
        "X = sm.add_constant(X)\n",
        "ols = sm.OLS(y, X).fit()\n",
        "print(ols.summary().tables[1])\n",
        "# generate predicted values and save as a column in the dataframe\n",
        "df['wfh_pred']=ols.predict(X)\n",
        "\n",
        "\n",
        "# Stage 2\n",
        "X = df[['wfh_pred']].astype(float)\n",
        "y = df['productivity'].astype(float)\n",
        "\n",
        "X = sm.add_constant(X)\n",
        "ols = sm.OLS(y, X).fit()\n",
        "print(ols.summary().tables[1])"
      ],
      "metadata": {
        "colab": {
          "base_uri": "https://localhost:8080/"
        },
        "id": "1rpxoFCXadws",
        "outputId": "2729f5a2-80cd-44d4-f5ab-6d1a7d3827e2"
      },
      "execution_count": 35,
      "outputs": [
        {
          "output_type": "stream",
          "name": "stdout",
          "text": [
            "==================================================================================\n",
            "                     coef    std err          t      P>|t|      [0.025      0.975]\n",
            "----------------------------------------------------------------------------------\n",
            "const              0.4997      0.005     99.928      0.000       0.490       0.509\n",
            "subway_closure     0.5003      0.011     44.464      0.000       0.478       0.522\n",
            "==================================================================================\n",
            "==============================================================================\n",
            "                 coef    std err          t      P>|t|      [0.025      0.975]\n",
            "------------------------------------------------------------------------------\n",
            "const          0.8689      0.048     17.928      0.000       0.774       0.964\n",
            "wfh_pred       2.9651      0.077     38.590      0.000       2.814       3.116\n",
            "==============================================================================\n"
          ]
        },
        {
          "output_type": "stream",
          "name": "stderr",
          "text": [
            "<ipython-input-35-d5133a0a71cc>:9: SettingWithCopyWarning: \n",
            "A value is trying to be set on a copy of a slice from a DataFrame.\n",
            "Try using .loc[row_indexer,col_indexer] = value instead\n",
            "\n",
            "See the caveats in the documentation: https://pandas.pydata.org/pandas-docs/stable/user_guide/indexing.html#returning-a-view-versus-a-copy\n",
            "  df['wfh_pred']=ols.predict(X)\n"
          ]
        }
      ]
    },
    {
      "cell_type": "markdown",
      "source": [
        "And we have an estimate of the effect of wfh on productivity that is pretty close to the true effect of 3"
      ],
      "metadata": {
        "id": "jLIp4_TFc6J2"
      }
    },
    {
      "cell_type": "markdown",
      "source": [
        "### Question for further research.\n",
        "What if the instrument has a backdoor pathway to the outcome? Would it work to block it using the back door approach? I believe it would, in the first stage one would estiamte a model of the treatment as a function of the instument and another control variable that blocks the backdoor pathway. Then when generating the predicted values for the treatment one would set all the values of the control variable to zero before generating the predicted values. This ensures that the predicted values are based only on the instrument, not on the control"
      ],
      "metadata": {
        "id": "zeWcwdYzebOv"
      }
    },
    {
      "cell_type": "code",
      "source": [],
      "metadata": {
        "id": "7nj_MYqPcw-1"
      },
      "execution_count": null,
      "outputs": []
    }
  ]
}